{
  "nbformat": 4,
  "nbformat_minor": 0,
  "metadata": {
    "colab": {
      "name": "EmotionDetectionMerged.ipynb",
      "provenance": [],
      "collapsed_sections": [],
      "toc_visible": true,
      "authorship_tag": "ABX9TyNlrC2CnMhoc3AoMGKi0PxW",
      "include_colab_link": true
    },
    "kernelspec": {
      "display_name": "Python 3",
      "name": "python3"
    }
  },
  "cells": [
    {
      "cell_type": "markdown",
      "metadata": {
        "id": "view-in-github",
        "colab_type": "text"
      },
      "source": [
        "<a href=\"https://colab.research.google.com/github/Tuurash/SentimentRecognitionFromVoice/blob/main/EmotionDetectionMerged_Final.ipynb\" target=\"_parent\"><img src=\"https://colab.research.google.com/assets/colab-badge.svg\" alt=\"Open In Colab\"/></a>"
      ]
    },
    {
      "cell_type": "markdown",
      "metadata": {
        "id": "zO1Wv6wNFht1"
      },
      "source": [
        "# Drive Mount\r\n",
        "\r\n",
        "4/1AY0e-g4sSL4dxlvqjv0an0CLF0XVleVj8Pp1iz_riYBi6tSJPwn4crOnhN8\r\n"
      ]
    },
    {
      "cell_type": "code",
      "metadata": {
        "colab": {
          "base_uri": "https://localhost:8080/"
        },
        "id": "rl9KDAzyFjr-",
        "outputId": "5cc846cf-6a50-4d20-f82e-a0323f962b5c"
      },
      "source": [
        "from google.colab import drive\r\n",
        "drive.mount('/content/drive')"
      ],
      "execution_count": 1,
      "outputs": [
        {
          "output_type": "stream",
          "text": [
            "Mounted at /content/drive\n"
          ],
          "name": "stdout"
        }
      ]
    },
    {
      "cell_type": "markdown",
      "metadata": {
        "id": "ICVpln7NFHcI"
      },
      "source": [
        "For Detection From Video"
      ]
    },
    {
      "cell_type": "code",
      "metadata": {
        "colab": {
          "base_uri": "https://localhost:8080/"
        },
        "id": "MwyAXcPGNpRm",
        "outputId": "d63dd157-826f-49a8-f02d-a3344f88e9cc"
      },
      "source": [
        "import tensorflow as tf\r\n",
        "import keras\r\n",
        "import imutils\r\n",
        "import numpy as np\r\n",
        "import cv2\r\n",
        "from google.colab.patches import cv2_imshow\r\n",
        "from IPython.display import display, Javascript\r\n",
        "from google.colab.output import eval_js\r\n",
        "from base64 import b64decode\r\n",
        "!wget -N https://raw.githubusercontent.com/opencv/opencv/master/samples/dnn/face_detector/deploy.prototxt\r\n",
        "!wget -N https://raw.githubusercontent.com/opencv/opencv_3rdparty/dnn_samples_face_detector_20170830/res10_300x300_ssd_iter_140000.caffemodel"
      ],
      "execution_count": null,
      "outputs": [
        {
          "output_type": "stream",
          "text": [
            "--2021-02-09 05:46:14--  https://raw.githubusercontent.com/opencv/opencv/master/samples/dnn/face_detector/deploy.prototxt\n",
            "Resolving raw.githubusercontent.com (raw.githubusercontent.com)... 151.101.0.133, 151.101.64.133, 151.101.128.133, ...\n",
            "Connecting to raw.githubusercontent.com (raw.githubusercontent.com)|151.101.0.133|:443... connected.\n",
            "HTTP request sent, awaiting response... 200 OK\n",
            "Length: 28104 (27K) [text/plain]\n",
            "Saving to: ‘deploy.prototxt’\n",
            "\n",
            "\rdeploy.prototxt       0%[                    ]       0  --.-KB/s               \rdeploy.prototxt     100%[===================>]  27.45K  --.-KB/s    in 0.003s  \n",
            "\n",
            "Last-modified header missing -- time-stamps turned off.\n",
            "2021-02-09 05:46:14 (9.03 MB/s) - ‘deploy.prototxt’ saved [28104/28104]\n",
            "\n",
            "--2021-02-09 05:46:14--  https://raw.githubusercontent.com/opencv/opencv_3rdparty/dnn_samples_face_detector_20170830/res10_300x300_ssd_iter_140000.caffemodel\n",
            "Resolving raw.githubusercontent.com (raw.githubusercontent.com)... 151.101.0.133, 151.101.64.133, 151.101.128.133, ...\n",
            "Connecting to raw.githubusercontent.com (raw.githubusercontent.com)|151.101.0.133|:443... connected.\n",
            "HTTP request sent, awaiting response... 200 OK\n",
            "Length: 10666211 (10M) [application/octet-stream]\n",
            "Saving to: ‘res10_300x300_ssd_iter_140000.caffemodel’\n",
            "\n",
            "res10_300x300_ssd_i 100%[===================>]  10.17M  23.1MB/s    in 0.4s    \n",
            "\n",
            "Last-modified header missing -- time-stamps turned off.\n",
            "2021-02-09 05:46:14 (23.1 MB/s) - ‘res10_300x300_ssd_iter_140000.caffemodel’ saved [10666211/10666211]\n",
            "\n"
          ],
          "name": "stdout"
        }
      ]
    },
    {
      "cell_type": "code",
      "metadata": {
        "id": "sPCLJvQNFWBI"
      },
      "source": [
        "import sys, os\r\n",
        "import pandas as pd\r\n",
        "import numpy as np\r\n",
        " \r\n",
        "from keras.models import Sequential\r\n",
        "from keras.layers import Dense, Dropout, Activation, Flatten\r\n",
        "from keras.layers import Conv2D, MaxPooling2D, BatchNormalization,AveragePooling2D\r\n",
        "from keras.losses import categorical_crossentropy\r\n",
        "from keras.optimizers import Adam\r\n",
        "from keras.regularizers import l2\r\n",
        "from keras.utils import np_utils\r\n",
        "\r\n",
        "#Frame Extraction\r\n",
        "import cv2\r\n",
        "from skimage.color import rgb2gray\r\n",
        "from skimage.transform import resize\r\n",
        "import matplotlib.pyplot as plt\r\n",
        "import math\r\n",
        " \r\n",
        "import matplotlib.pyplot as plt\r\n",
        "%matplotlib inline"
      ],
      "execution_count": null,
      "outputs": []
    },
    {
      "cell_type": "markdown",
      "metadata": {
        "id": "vSmC-wskWCfF"
      },
      "source": [
        "For Detection From Audio"
      ]
    },
    {
      "cell_type": "code",
      "metadata": {
        "colab": {
          "base_uri": "https://localhost:8080/"
        },
        "id": "bT1phwY4WHGz",
        "outputId": "946070d3-62a9-4850-aa9f-083b20d5cba2"
      },
      "source": [
        "pip install SpeechRecognition moviepy"
      ],
      "execution_count": null,
      "outputs": [
        {
          "output_type": "stream",
          "text": [
            "Collecting SpeechRecognition\n",
            "\u001b[?25l  Downloading https://files.pythonhosted.org/packages/26/e1/7f5678cd94ec1234269d23756dbdaa4c8cfaed973412f88ae8adf7893a50/SpeechRecognition-3.8.1-py2.py3-none-any.whl (32.8MB)\n",
            "\u001b[K     |████████████████████████████████| 32.8MB 124kB/s \n",
            "\u001b[?25hRequirement already satisfied: moviepy in /usr/local/lib/python3.6/dist-packages (0.2.3.5)\n",
            "Requirement already satisfied: decorator<5.0,>=4.0.2 in /usr/local/lib/python3.6/dist-packages (from moviepy) (4.4.2)\n",
            "Requirement already satisfied: numpy in /usr/local/lib/python3.6/dist-packages (from moviepy) (1.19.5)\n",
            "Requirement already satisfied: tqdm<5.0,>=4.11.2 in /usr/local/lib/python3.6/dist-packages (from moviepy) (4.41.1)\n",
            "Requirement already satisfied: imageio<3.0,>=2.1.2 in /usr/local/lib/python3.6/dist-packages (from moviepy) (2.4.1)\n",
            "Requirement already satisfied: pillow in /usr/local/lib/python3.6/dist-packages (from imageio<3.0,>=2.1.2->moviepy) (7.0.0)\n",
            "Installing collected packages: SpeechRecognition\n",
            "Successfully installed SpeechRecognition-3.8.1\n"
          ],
          "name": "stdout"
        }
      ]
    },
    {
      "cell_type": "code",
      "metadata": {
        "colab": {
          "base_uri": "https://localhost:8080/"
        },
        "id": "mw2oQ1aYWbDa",
        "outputId": "e1257f6b-691c-4cbf-e8a6-4b91f9dde2eb"
      },
      "source": [
        "import speech_recognition as sr \r\n",
        "import moviepy.editor as mp"
      ],
      "execution_count": null,
      "outputs": [
        {
          "output_type": "stream",
          "text": [
            "Imageio: 'ffmpeg-linux64-v3.3.1' was not found on your computer; downloading it now.\n",
            "Try 1. Download from https://github.com/imageio/imageio-binaries/raw/master/ffmpeg/ffmpeg-linux64-v3.3.1 (43.8 MB)\n",
            "Downloading: 8192/45929032 bytes (0.0%)\b\b\b\b\b\b\b\b\b\b\b\b\b\b\b\b\b\b\b\b\b\b\b\b\b\b1769472/45929032 bytes (3.9%)\b\b\b\b\b\b\b\b\b\b\b\b\b\b\b\b\b\b\b\b\b\b\b\b\b\b\b\b\b4857856/45929032 bytes (10.6%)\b\b\b\b\b\b\b\b\b\b\b\b\b\b\b\b\b\b\b\b\b\b\b\b\b\b\b\b\b\b8593408/45929032 bytes (18.7%)\b\b\b\b\b\b\b\b\b\b\b\b\b\b\b\b\b\b\b\b\b\b\b\b\b\b\b\b\b\b12066816/45929032 bytes (26.3%)\b\b\b\b\b\b\b\b\b\b\b\b\b\b\b\b\b\b\b\b\b\b\b\b\b\b\b\b\b\b\b15990784/45929032 bytes (34.8%)\b\b\b\b\b\b\b\b\b\b\b\b\b\b\b\b\b\b\b\b\b\b\b\b\b\b\b\b\b\b\b19849216/45929032 bytes (43.2%)\b\b\b\b\b\b\b\b\b\b\b\b\b\b\b\b\b\b\b\b\b\b\b\b\b\b\b\b\b\b\b23617536/45929032 bytes (51.4%)\b\b\b\b\b\b\b\b\b\b\b\b\b\b\b\b\b\b\b\b\b\b\b\b\b\b\b\b\b\b\b27344896/45929032 bytes (59.5%)\b\b\b\b\b\b\b\b\b\b\b\b\b\b\b\b\b\b\b\b\b\b\b\b\b\b\b\b\b\b\b31318016/45929032 bytes (68.2%)\b\b\b\b\b\b\b\b\b\b\b\b\b\b\b\b\b\b\b\b\b\b\b\b\b\b\b\b\b\b\b35061760/45929032 bytes (76.3%)\b\b\b\b\b\b\b\b\b\b\b\b\b\b\b\b\b\b\b\b\b\b\b\b\b\b\b\b\b\b\b38641664/45929032 bytes (84.1%)\b\b\b\b\b\b\b\b\b\b\b\b\b\b\b\b\b\b\b\b\b\b\b\b\b\b\b\b\b\b\b42369024/45929032 bytes (92.2%)\b\b\b\b\b\b\b\b\b\b\b\b\b\b\b\b\b\b\b\b\b\b\b\b\b\b\b\b\b\b\b45929032/45929032 bytes (100.0%)\n",
            "  Done\n",
            "File saved as /root/.imageio/ffmpeg/ffmpeg-linux64-v3.3.1.\n"
          ],
          "name": "stdout"
        }
      ]
    },
    {
      "cell_type": "markdown",
      "metadata": {
        "id": "7tUO2dbCXUbE"
      },
      "source": [
        "Import Video "
      ]
    },
    {
      "cell_type": "code",
      "metadata": {
        "colab": {
          "base_uri": "https://localhost:8080/"
        },
        "id": "00bIaOrgXTQa",
        "outputId": "559b34ae-5ab1-49b9-adf4-65ad85218474"
      },
      "source": [
        "clip = mp.VideoFileClip(r\"/content/drive/MyDrive/EmotionRecognitionDS/Videos/Happy.mp4\") \r\n",
        "clip.audio.write_audiofile(r\"/content/drive/MyDrive/EmotionRecognitionDS/converted.wav\")"
      ],
      "execution_count": null,
      "outputs": [
        {
          "output_type": "stream",
          "text": [
            "[MoviePy] Writing audio in /content/drive/MyDrive/EmotionRecognitionDS/converted.wav\n"
          ],
          "name": "stdout"
        },
        {
          "output_type": "stream",
          "text": [
            "100%|██████████| 90/90 [00:00<00:00, 2103.12it/s]"
          ],
          "name": "stderr"
        },
        {
          "output_type": "stream",
          "text": [
            "[MoviePy] Done.\n"
          ],
          "name": "stdout"
        },
        {
          "output_type": "stream",
          "text": [
            "\n"
          ],
          "name": "stderr"
        }
      ]
    },
    {
      "cell_type": "markdown",
      "metadata": {
        "id": "SfFvmiHZZ5L8"
      },
      "source": [
        "**Process Video**"
      ]
    },
    {
      "cell_type": "markdown",
      "metadata": {
        "id": "fgmDE1gVaABD"
      },
      "source": [
        "Frame Extraction"
      ]
    },
    {
      "cell_type": "code",
      "metadata": {
        "colab": {
          "base_uri": "https://localhost:8080/"
        },
        "id": "bkvRLacZaDC1",
        "outputId": "03b0f8d2-c6a6-4048-a5a8-a2acadd95db8"
      },
      "source": [
        "INPUT_VIDEOS_PATH = '/content/drive/MyDrive/EmotionRecognitionDS/Videos/' # Path to folder with videos \r\n",
        "OUTPUT_FRAMES_PATH = '/content/drive/MyDrive/EmotionRecognitionDS/Frames'          # Location of extracted images\r\n",
        "\r\n",
        "frame_name = 'frame'                                                  # Frame name       \r\n",
        "one_frame_each = 4                                                    # Extract one frame each 70\r\n",
        "\r\n",
        "\r\n",
        "!if [ -d {OUTPUT_FRAMES_PATH} ]; then echo \"Output to be stored in \"{OUTPUT_FRAMES_PATH} ; else mkdir {OUTPUT_FRAMES_PATH} && echo \"Output directory created\"; fi\r\n",
        "\r\n",
        "files = !ls {INPUT_VIDEOS_PATH}/*.mp4                                 # Video file names in INPUT VIDEOS PATH\r\n",
        "videofile = files[0] "
      ],
      "execution_count": null,
      "outputs": [
        {
          "output_type": "stream",
          "text": [
            "Output to be stored in /content/drive/MyDrive/EmotionRecognitionDS/Frames\n"
          ],
          "name": "stdout"
        }
      ]
    },
    {
      "cell_type": "code",
      "metadata": {
        "colab": {
          "base_uri": "https://localhost:8080/"
        },
        "id": "qNH1MG5JaxeK",
        "outputId": "39f88192-4ffa-41fd-a9d8-1a4128db8612"
      },
      "source": [
        "count = 0\r\n",
        "success = True\r\n",
        "\r\n",
        "vidcap = cv2.VideoCapture(videofile)\r\n",
        "\r\n",
        "while success:\r\n",
        "    if (count%one_frame_each == 0):                                   # checks frame number and keeps one_frame_each          \r\n",
        "        success,image = vidcap.read()                                 # reads next frame           \r\n",
        "        image_gray = rgb2gray(image)                                  # grayscale image\r\n",
        "        if image.shape[1]>640:                                        # if image width > 640, resize it\r\n",
        "          tmp = resize(image_gray, (math.floor(640 / image_gray.shape[1] * image_gray.shape[0]), 640),mode='constant')\r\n",
        "        plt.imsave(\"%s/%s%d.png\" % (OUTPUT_FRAMES_PATH,frame_name, count), tmp, cmap= plt.cm.gray) # saves images to frame folder\r\n",
        "        print ('*', end=\"\")\r\n",
        "        if count>=30:\r\n",
        "          break\r\n",
        "    else:\r\n",
        "        success,image = vidcap.read()                                 # reads next frame\r\n",
        "    count += 1 \r\n",
        "print(\"Done\")"
      ],
      "execution_count": null,
      "outputs": [
        {
          "output_type": "stream",
          "text": [
            "*********"
          ],
          "name": "stdout"
        }
      ]
    },
    {
      "cell_type": "markdown",
      "metadata": {
        "id": "QxCB9dc3XuCb"
      },
      "source": [
        "Text Extraction"
      ]
    },
    {
      "cell_type": "code",
      "metadata": {
        "id": "9oBmPz97XnOb"
      },
      "source": [
        "r = sr.Recognizer()\r\n",
        "audio = sr.AudioFile(\"/content/drive/MyDrive/EmotionRecognitionDS/converted.wav\")"
      ],
      "execution_count": null,
      "outputs": []
    },
    {
      "cell_type": "code",
      "metadata": {
        "colab": {
          "base_uri": "https://localhost:8080/"
        },
        "id": "saaaFYKMXzor",
        "outputId": "039a0fe2-d681-48a4-bb7f-52365b28480d"
      },
      "source": [
        "with audio as source:\r\n",
        "  audio_file = r.record(source)\r\n",
        "  \r\n",
        "result = r.recognize_google(audio_file)\r\n",
        "\r\n",
        "# exporting the result \r\n",
        "with open('recognized.txt',mode ='w') as file: \r\n",
        "    \r\n",
        "   file.write(result) \r\n",
        "   print(\"done!\")"
      ],
      "execution_count": null,
      "outputs": [
        {
          "output_type": "stream",
          "text": [
            "done!\n"
          ],
          "name": "stdout"
        }
      ]
    },
    {
      "cell_type": "markdown",
      "metadata": {
        "id": "ZSkQiPHRI58p"
      },
      "source": [
        "**Training Data For Video **\r\n",
        "\r\n",
        "The data consists of 48x48 pixel grayscale images of faces. The faces have been automatically registered so that the face is more or less centred and occupies about the same amount of space in each image.\r\n",
        "\r\n",
        "The task is to categorize each face based on the emotion shown in the facial expression into one of seven categories (0=Angry, 1=Disgust, 2=Fear, 3=Happy, 4=Sad, 5=Surprise, 6=Neutral). The training set consists of 28,709 examples and the public test set consists of 3,589 examples.\r\n",
        "link: `https://www.kaggle.com/msambare/fer2013`"
      ]
    },
    {
      "cell_type": "code",
      "metadata": {
        "colab": {
          "base_uri": "https://localhost:8080/"
        },
        "id": "sv9O03icIlPV",
        "outputId": "0a40cde6-c4b4-4515-aa4f-2bcc85882dbc"
      },
      "source": [
        "file = r'/content/drive/MyDrive/EmotionRecognitionDS/fer2013.csv'\r\n",
        "df = pd.read_csv(file)\r\n",
        "#df=pd.read_csv('gdrive/My Drive/fer2013.csv')\r\n",
        "print(df)"
      ],
      "execution_count": null,
      "outputs": [
        {
          "output_type": "stream",
          "text": [
            "       emotion                                             pixels        Usage\n",
            "0            0  70 80 82 72 58 58 60 63 54 58 60 48 89 115 121...     Training\n",
            "1            0  151 150 147 155 148 133 111 140 170 174 182 15...     Training\n",
            "2            2  231 212 156 164 174 138 161 173 182 200 106 38...     Training\n",
            "3            4  24 32 36 30 32 23 19 20 30 41 21 22 32 34 21 1...     Training\n",
            "4            6  4 0 0 0 0 0 0 0 0 0 0 0 3 15 23 28 48 50 58 84...     Training\n",
            "...        ...                                                ...          ...\n",
            "35882        6  50 36 17 22 23 29 33 39 34 37 37 37 39 43 48 5...  PrivateTest\n",
            "35883        3  178 174 172 173 181 188 191 194 196 199 200 20...  PrivateTest\n",
            "35884        0  17 17 16 23 28 22 19 17 25 26 20 24 31 19 27 9...  PrivateTest\n",
            "35885        3  30 28 28 29 31 30 42 68 79 81 77 67 67 71 63 6...  PrivateTest\n",
            "35886        2  19 13 14 12 13 16 21 33 50 57 71 84 97 108 122...  PrivateTest\n",
            "\n",
            "[35887 rows x 3 columns]\n"
          ],
          "name": "stdout"
        }
      ]
    },
    {
      "cell_type": "code",
      "metadata": {
        "id": "kat8hOBbJOdR"
      },
      "source": [
        "X_train,train_y,X_test,test_y=[],[],[],[]\r\n",
        " \r\n",
        "for index, row in df.iterrows():\r\n",
        "    val=row['pixels'].split(\" \")\r\n",
        "    try:\r\n",
        "        if 'Training' in row['Usage']:\r\n",
        "           X_train.append(np.array(val,'float32'))\r\n",
        "           train_y.append(row['emotion'])\r\n",
        "        elif 'PublicTest' in row['Usage']:\r\n",
        "           X_test.append(np.array(val,'float32'))\r\n",
        "           test_y.append(row['emotion'])\r\n",
        "    except:\r\n",
        "        print(f\"error occured at index :{index} and row:{row}\")\r\n",
        " \r\n",
        " \r\n",
        "#print(X_train)"
      ],
      "execution_count": null,
      "outputs": []
    },
    {
      "cell_type": "code",
      "metadata": {
        "colab": {
          "base_uri": "https://localhost:8080/"
        },
        "id": "rfMrd2A-Ja5f",
        "outputId": "e57f6fb1-ac7a-4860-f7cf-2f94b35b4279"
      },
      "source": [
        "num_features = 64\r\n",
        "num_labels = 7\r\n",
        "batch_size = 2\r\n",
        "epochs = 10\r\n",
        "width, height = 48, 48\r\n",
        " \r\n",
        " \r\n",
        "X_train = np.array(X_train,'float32')\r\n",
        "train_y = np.array(train_y,'float32')\r\n",
        "X_test = np.array(X_test,'float32')\r\n",
        "test_y = np.array(test_y,'float32')\r\n",
        " \r\n",
        "train_y=np_utils.to_categorical(train_y, num_classes=num_labels)\r\n",
        "test_y=np_utils.to_categorical(test_y, num_classes=num_labels)\r\n",
        " \r\n",
        "print(X_train)\r\n",
        " \r\n",
        " \r\n",
        "#cannot produce\r\n",
        "#normalizing data between oand 1\r\n",
        "X_train -= np.mean(X_train, axis=0)\r\n",
        "X_train /= np.std(X_train, axis=0)\r\n",
        " \r\n",
        "X_test -= np.mean(X_test, axis=0)\r\n",
        "X_test /= np.std(X_test, axis=0)\r\n",
        " \r\n",
        "X_train = X_train.reshape(X_train.shape[0], 48, 48, 1)\r\n",
        " \r\n",
        "X_test = X_test.reshape(X_test.shape[0], 48, 48, 1)\r\n",
        " \r\n",
        " \r\n",
        "#print(X_test)"
      ],
      "execution_count": null,
      "outputs": [
        {
          "output_type": "stream",
          "text": [
            "[[ 70.  80.  82. ... 106. 109.  82.]\n",
            " [151. 150. 147. ... 193. 183. 184.]\n",
            " [231. 212. 156. ...  88. 110. 152.]\n",
            " ...\n",
            " [ 74.  81.  87. ... 188. 187. 187.]\n",
            " [222. 227. 203. ... 136. 136. 134.]\n",
            " [195. 199. 205. ...   6.  15.  38.]]\n"
          ],
          "name": "stdout"
        }
      ]
    },
    {
      "cell_type": "code",
      "metadata": {
        "id": "EgbJELLbJeRn"
      },
      "source": [
        "class_weight = {\r\n",
        "    0:1/sum(train_y[:,0]), \r\n",
        "    1:1/sum(train_y[:,1]), \r\n",
        "    2:1/sum(train_y[:,2]), \r\n",
        "    3:1/sum(train_y[:,3]),\r\n",
        "    4:1/sum(train_y[:,4]),\r\n",
        "    5:1/sum(train_y[:,5]),\r\n",
        "    6:1/sum(train_y[:,6])\r\n",
        "}"
      ],
      "execution_count": null,
      "outputs": []
    },
    {
      "cell_type": "code",
      "metadata": {
        "id": "cO70GRLEJgy_"
      },
      "source": [
        "def save_data(X_test, test_y, fname=''):\r\n",
        "    \"\"\"\r\n",
        "    The function stores loaded data into numpy form for further processing\r\n",
        "    \"\"\"\r\n",
        "    np.save( 'X_test' + fname, test_y)\r\n",
        "    np.save( 'y_test' + fname, test_y)\r\n",
        "save_data(X_test, test_y,\"_privatetest6_100pct\")\r\n",
        "X_fname = 'X_test_privatetest6_100pct.npy'\r\n",
        "y_fname = 'y_test_privatetest6_100pct.npy'\r\n",
        "X = np.load(X_fname)\r\n",
        "y = np.load(y_fname)"
      ],
      "execution_count": null,
      "outputs": []
    },
    {
      "cell_type": "markdown",
      "metadata": {
        "id": "VXRbBb2fJloi"
      },
      "source": [
        "Model Creation"
      ]
    },
    {
      "cell_type": "code",
      "metadata": {
        "id": "lFMewrS8Jny-"
      },
      "source": [
        "def createModel():\r\n",
        "    model = Sequential()\r\n",
        " \r\n",
        "    model.add(Conv2D(64, (3, 3), padding='same', input_shape=(48,48,1)))\r\n",
        "    model.add(BatchNormalization())\r\n",
        "    model.add(Activation('relu'))\r\n",
        "    model.add(MaxPooling2D(pool_size=(2, 2), strides=None, padding='same'))\r\n",
        "    model.add(Dropout(0.25))\r\n",
        " \r\n",
        "    model.add(Conv2D(128, (3, 3), padding='same'))\r\n",
        "    model.add(BatchNormalization())\r\n",
        "    model.add(Activation('relu'))\r\n",
        "    model.add(MaxPooling2D(pool_size=(2, 2), strides=None, padding='same'))\r\n",
        "    model.add(Dropout(0.25))\r\n",
        " \r\n",
        "    model.add(Conv2D(256, (3, 3), padding='same'))\r\n",
        "    model.add(BatchNormalization())\r\n",
        "    model.add(Activation('relu'))\r\n",
        "    model.add(MaxPooling2D(pool_size=(2, 2), strides=None, padding='same'))\r\n",
        "    model.add(Dropout(0.25))\r\n",
        " \r\n",
        "    model.add(Conv2D(512, (3, 3), padding='same'))\r\n",
        "    model.add(BatchNormalization())\r\n",
        "    model.add(Activation('relu'))\r\n",
        "    model.add(MaxPooling2D(pool_size=(2, 2), strides=None, padding='same'))\r\n",
        "    model.add(Dropout(0.25))\r\n",
        " \r\n",
        "    model.add(Flatten())\r\n",
        " \r\n",
        "    model.add(Dense(512))\r\n",
        "    model.add(BatchNormalization())\r\n",
        "    model.add(Activation('relu'))\r\n",
        "    model.add(Dropout(0.25))\r\n",
        " \r\n",
        "    model.add(Dense(256))\r\n",
        "    model.add(BatchNormalization())\r\n",
        "    model.add(Activation('relu'))\r\n",
        "    model.add(Dropout(0.25))\r\n",
        " \r\n",
        "    model.add(Dense(7))\r\n",
        "    model.add(Activation('softmax'))\r\n",
        " \r\n",
        "    return model \r\n",
        "model = createModel()"
      ],
      "execution_count": null,
      "outputs": []
    },
    {
      "cell_type": "code",
      "metadata": {
        "colab": {
          "base_uri": "https://localhost:8080/"
        },
        "id": "3UJUy4jOJsSx",
        "outputId": "0396ff1a-26c3-4943-f614-ca030261b04d"
      },
      "source": [
        "model.summary()"
      ],
      "execution_count": null,
      "outputs": [
        {
          "output_type": "stream",
          "text": [
            "Model: \"sequential_2\"\n",
            "_________________________________________________________________\n",
            "Layer (type)                 Output Shape              Param #   \n",
            "=================================================================\n",
            "conv2d_8 (Conv2D)            (None, 48, 48, 64)        640       \n",
            "_________________________________________________________________\n",
            "batch_normalization_12 (Batc (None, 48, 48, 64)        256       \n",
            "_________________________________________________________________\n",
            "activation_14 (Activation)   (None, 48, 48, 64)        0         \n",
            "_________________________________________________________________\n",
            "max_pooling2d_8 (MaxPooling2 (None, 24, 24, 64)        0         \n",
            "_________________________________________________________________\n",
            "dropout_12 (Dropout)         (None, 24, 24, 64)        0         \n",
            "_________________________________________________________________\n",
            "conv2d_9 (Conv2D)            (None, 24, 24, 128)       73856     \n",
            "_________________________________________________________________\n",
            "batch_normalization_13 (Batc (None, 24, 24, 128)       512       \n",
            "_________________________________________________________________\n",
            "activation_15 (Activation)   (None, 24, 24, 128)       0         \n",
            "_________________________________________________________________\n",
            "max_pooling2d_9 (MaxPooling2 (None, 12, 12, 128)       0         \n",
            "_________________________________________________________________\n",
            "dropout_13 (Dropout)         (None, 12, 12, 128)       0         \n",
            "_________________________________________________________________\n",
            "conv2d_10 (Conv2D)           (None, 12, 12, 256)       295168    \n",
            "_________________________________________________________________\n",
            "batch_normalization_14 (Batc (None, 12, 12, 256)       1024      \n",
            "_________________________________________________________________\n",
            "activation_16 (Activation)   (None, 12, 12, 256)       0         \n",
            "_________________________________________________________________\n",
            "max_pooling2d_10 (MaxPooling (None, 6, 6, 256)         0         \n",
            "_________________________________________________________________\n",
            "dropout_14 (Dropout)         (None, 6, 6, 256)         0         \n",
            "_________________________________________________________________\n",
            "conv2d_11 (Conv2D)           (None, 6, 6, 512)         1180160   \n",
            "_________________________________________________________________\n",
            "batch_normalization_15 (Batc (None, 6, 6, 512)         2048      \n",
            "_________________________________________________________________\n",
            "activation_17 (Activation)   (None, 6, 6, 512)         0         \n",
            "_________________________________________________________________\n",
            "max_pooling2d_11 (MaxPooling (None, 3, 3, 512)         0         \n",
            "_________________________________________________________________\n",
            "dropout_15 (Dropout)         (None, 3, 3, 512)         0         \n",
            "_________________________________________________________________\n",
            "flatten_2 (Flatten)          (None, 4608)              0         \n",
            "_________________________________________________________________\n",
            "dense_6 (Dense)              (None, 512)               2359808   \n",
            "_________________________________________________________________\n",
            "batch_normalization_16 (Batc (None, 512)               2048      \n",
            "_________________________________________________________________\n",
            "activation_18 (Activation)   (None, 512)               0         \n",
            "_________________________________________________________________\n",
            "dropout_16 (Dropout)         (None, 512)               0         \n",
            "_________________________________________________________________\n",
            "dense_7 (Dense)              (None, 256)               131328    \n",
            "_________________________________________________________________\n",
            "batch_normalization_17 (Batc (None, 256)               1024      \n",
            "_________________________________________________________________\n",
            "activation_19 (Activation)   (None, 256)               0         \n",
            "_________________________________________________________________\n",
            "dropout_17 (Dropout)         (None, 256)               0         \n",
            "_________________________________________________________________\n",
            "dense_8 (Dense)              (None, 7)                 1799      \n",
            "_________________________________________________________________\n",
            "activation_20 (Activation)   (None, 7)                 0         \n",
            "=================================================================\n",
            "Total params: 4,049,671\n",
            "Trainable params: 4,046,215\n",
            "Non-trainable params: 3,456\n",
            "_________________________________________________________________\n"
          ],
          "name": "stdout"
        }
      ]
    },
    {
      "cell_type": "markdown",
      "metadata": {
        "id": "BDNZaMiBJ4vg"
      },
      "source": [
        "Plotting accuracy and loss curves for 2nd model"
      ]
    },
    {
      "cell_type": "markdown",
      "metadata": {
        "id": "Z2-bZArsOub-"
      },
      "source": [
        "Model Initialization"
      ]
    },
    {
      "cell_type": "code",
      "metadata": {
        "colab": {
          "base_uri": "https://localhost:8080/"
        },
        "id": "50DFruXzOxaE",
        "outputId": "cefaf317-5f7c-4129-d5ad-7a211e5097e1"
      },
      "source": [
        "print(\"[INFO] loading model...\")\r\n",
        "prototxt = 'deploy.prototxt'\r\n",
        "model2 = 'res10_300x300_ssd_iter_140000.caffemodel'\r\n",
        "net = cv2.dnn.readNetFromCaffe(prototxt, model2)\r\n",
        "print(\"[INFO] Done\")"
      ],
      "execution_count": null,
      "outputs": [
        {
          "output_type": "stream",
          "text": [
            "[INFO] loading model...\n",
            "[INFO] Done\n"
          ],
          "name": "stdout"
        }
      ]
    },
    {
      "cell_type": "markdown",
      "metadata": {
        "id": "_kvjb_lpPaNr"
      },
      "source": [
        "resize it to have a maximum width of 400 pixels"
      ]
    },
    {
      "cell_type": "code",
      "metadata": {
        "colab": {
          "base_uri": "https://localhost:8080/",
          "height": 260
        },
        "id": "Pcn4Sn7rPe2k",
        "outputId": "58060fc5-eae9-47e4-b37f-1ff7fd0b9a86"
      },
      "source": [
        "from keras.preprocessing import image\r\n",
        "import cv2\r\n",
        "import matplotlib.pyplot as plt\r\n",
        "%matplotlib inline\r\n",
        "path = r'/content/drive/MyDrive/EmotionRecognitionDS/Frames/frame16.png'\r\n",
        "test_image = cv2.imread(path)\r\n",
        "\r\n",
        "test_image = imutils.resize(test_image, width=400)\r\n",
        "(h, w) = test_image.shape[:2]\r\n",
        "print(w,h)\r\n",
        "cv2_imshow(test_image)\r\n",
        "\r\n",
        "# resize it to have a maximum width of 400 pixels\r\n",
        "test_image = imutils.resize(test_image, width=400)\r\n",
        "blob = cv2.dnn.blobFromImage(cv2.resize(test_image, (300, 300)), 1.0, (300, 300), (104.0, 177.0, 123.0))"
      ],
      "execution_count": null,
      "outputs": [
        {
          "output_type": "stream",
          "text": [
            "400 225\n"
          ],
          "name": "stdout"
        },
        {
          "output_type": "display_data",
          "data": {
            "image/png": "[encoded data removed]",
            "text/plain": [
              "<PIL.Image.Image image mode=RGB size=400x225 at 0x7F2CF7622588>"
            ]
          },
          "metadata": {
            "tags": []
          }
        }
      ]
    },
    {
      "cell_type": "markdown",
      "metadata": {
        "id": "WBg7lTdaQSQ8"
      },
      "source": [
        "Prediction Process"
      ]
    },
    {
      "cell_type": "code",
      "metadata": {
        "colab": {
          "base_uri": "https://localhost:8080/"
        },
        "id": "V6ezqXjJQPoE",
        "outputId": "1ca6e3af-cb02-40ca-df8a-79c41326b698"
      },
      "source": [
        "print(\"[INFO] computing object detections...\")\r\n",
        "net.setInput(blob)\r\n",
        "detections = net.forward()"
      ],
      "execution_count": null,
      "outputs": [
        {
          "output_type": "stream",
          "text": [
            "[INFO] computing object detections...\n"
          ],
          "name": "stdout"
        }
      ]
    },
    {
      "cell_type": "code",
      "metadata": {
        "colab": {
          "base_uri": "https://localhost:8080/",
          "height": 453
        },
        "id": "FbF-UZBGQbhM",
        "outputId": "5f5a5740-77ed-4c76-f2b0-5cce36b3a490"
      },
      "source": [
        "images = image.load_img(\"/content/drive/MyDrive/EmotionRecognitionDS/Frames/frame16.png\", target_size=(48, 48))    \r\n",
        "#images=test_image\r\n",
        "x = image.img_to_array(images)\r\n",
        "x = tf.image.rgb_to_grayscale(x)\r\n",
        "x = np.expand_dims(x, axis=0)\r\n",
        "x = x/255.0\r\n",
        "\r\n",
        "predictions=model.predict(x)\r\n",
        "#find max indexed array        \r\n",
        "max_index = np.argmax(predictions[0])\r\n",
        "emotions = ('angry', 'disgust', 'fear', 'happy', 'sad', 'surprise', 'neutral')        \r\n",
        "predicted_emotion = emotions[max_index]\r\n",
        "print(predicted_emotion)"
      ],
      "execution_count": null,
      "outputs": [
        {
          "output_type": "error",
          "ename": "FileNotFoundError",
          "evalue": "ignored",
          "traceback": [
            "\u001b[0;31m---------------------------------------------------------------------------\u001b[0m",
            "\u001b[0;31mFileNotFoundError\u001b[0m                         Traceback (most recent call last)",
            "\u001b[0;32m<ipython-input-76-ca3decf2c40d>\u001b[0m in \u001b[0;36m<module>\u001b[0;34m()\u001b[0m\n\u001b[0;32m----> 1\u001b[0;31m \u001b[0mimages\u001b[0m \u001b[0;34m=\u001b[0m \u001b[0mimage\u001b[0m\u001b[0;34m.\u001b[0m\u001b[0mload_img\u001b[0m\u001b[0;34m(\u001b[0m\u001b[0;34m\"/content/drive/MyDrive/EmotionRecognitionDS/Frames/frame16.png\"\u001b[0m\u001b[0;34m,\u001b[0m \u001b[0mtarget_size\u001b[0m\u001b[0;34m=\u001b[0m\u001b[0;34m(\u001b[0m\u001b[0;36m48\u001b[0m\u001b[0;34m,\u001b[0m \u001b[0;36m48\u001b[0m\u001b[0;34m)\u001b[0m\u001b[0;34m)\u001b[0m\u001b[0;34m\u001b[0m\u001b[0;34m\u001b[0m\u001b[0m\n\u001b[0m\u001b[1;32m      2\u001b[0m \u001b[0;31m#images=test_image\u001b[0m\u001b[0;34m\u001b[0m\u001b[0;34m\u001b[0m\u001b[0;34m\u001b[0m\u001b[0m\n\u001b[1;32m      3\u001b[0m \u001b[0mx\u001b[0m \u001b[0;34m=\u001b[0m \u001b[0mimage\u001b[0m\u001b[0;34m.\u001b[0m\u001b[0mimg_to_array\u001b[0m\u001b[0;34m(\u001b[0m\u001b[0mimages\u001b[0m\u001b[0;34m)\u001b[0m\u001b[0;34m\u001b[0m\u001b[0;34m\u001b[0m\u001b[0m\n\u001b[1;32m      4\u001b[0m \u001b[0mx\u001b[0m \u001b[0;34m=\u001b[0m \u001b[0mtf\u001b[0m\u001b[0;34m.\u001b[0m\u001b[0mimage\u001b[0m\u001b[0;34m.\u001b[0m\u001b[0mrgb_to_grayscale\u001b[0m\u001b[0;34m(\u001b[0m\u001b[0mx\u001b[0m\u001b[0;34m)\u001b[0m\u001b[0;34m\u001b[0m\u001b[0;34m\u001b[0m\u001b[0m\n\u001b[1;32m      5\u001b[0m \u001b[0mx\u001b[0m \u001b[0;34m=\u001b[0m \u001b[0mnp\u001b[0m\u001b[0;34m.\u001b[0m\u001b[0mexpand_dims\u001b[0m\u001b[0;34m(\u001b[0m\u001b[0mx\u001b[0m\u001b[0;34m,\u001b[0m \u001b[0maxis\u001b[0m\u001b[0;34m=\u001b[0m\u001b[0;36m0\u001b[0m\u001b[0;34m)\u001b[0m\u001b[0;34m\u001b[0m\u001b[0;34m\u001b[0m\u001b[0m\n",
            "\u001b[0;32m/usr/local/lib/python3.6/dist-packages/tensorflow/python/keras/preprocessing/image.py\u001b[0m in \u001b[0;36mload_img\u001b[0;34m(path, grayscale, color_mode, target_size, interpolation)\u001b[0m\n\u001b[1;32m    298\u001b[0m   \"\"\"\n\u001b[1;32m    299\u001b[0m   return image.load_img(path, grayscale=grayscale, color_mode=color_mode,\n\u001b[0;32m--> 300\u001b[0;31m                         target_size=target_size, interpolation=interpolation)\n\u001b[0m\u001b[1;32m    301\u001b[0m \u001b[0;34m\u001b[0m\u001b[0m\n\u001b[1;32m    302\u001b[0m \u001b[0;34m\u001b[0m\u001b[0m\n",
            "\u001b[0;32m/usr/local/lib/python3.6/dist-packages/keras_preprocessing/image/utils.py\u001b[0m in \u001b[0;36mload_img\u001b[0;34m(path, grayscale, color_mode, target_size, interpolation)\u001b[0m\n\u001b[1;32m    111\u001b[0m         raise ImportError('Could not import PIL.Image. '\n\u001b[1;32m    112\u001b[0m                           'The use of `load_img` requires PIL.')\n\u001b[0;32m--> 113\u001b[0;31m     \u001b[0;32mwith\u001b[0m \u001b[0mopen\u001b[0m\u001b[0;34m(\u001b[0m\u001b[0mpath\u001b[0m\u001b[0;34m,\u001b[0m \u001b[0;34m'rb'\u001b[0m\u001b[0;34m)\u001b[0m \u001b[0;32mas\u001b[0m \u001b[0mf\u001b[0m\u001b[0;34m:\u001b[0m\u001b[0;34m\u001b[0m\u001b[0;34m\u001b[0m\u001b[0m\n\u001b[0m\u001b[1;32m    114\u001b[0m         \u001b[0mimg\u001b[0m \u001b[0;34m=\u001b[0m \u001b[0mpil_image\u001b[0m\u001b[0;34m.\u001b[0m\u001b[0mopen\u001b[0m\u001b[0;34m(\u001b[0m\u001b[0mio\u001b[0m\u001b[0;34m.\u001b[0m\u001b[0mBytesIO\u001b[0m\u001b[0;34m(\u001b[0m\u001b[0mf\u001b[0m\u001b[0;34m.\u001b[0m\u001b[0mread\u001b[0m\u001b[0;34m(\u001b[0m\u001b[0;34m)\u001b[0m\u001b[0;34m)\u001b[0m\u001b[0;34m)\u001b[0m\u001b[0;34m\u001b[0m\u001b[0;34m\u001b[0m\u001b[0m\n\u001b[1;32m    115\u001b[0m         \u001b[0;32mif\u001b[0m \u001b[0mcolor_mode\u001b[0m \u001b[0;34m==\u001b[0m \u001b[0;34m'grayscale'\u001b[0m\u001b[0;34m:\u001b[0m\u001b[0;34m\u001b[0m\u001b[0;34m\u001b[0m\u001b[0m\n",
            "\u001b[0;31mFileNotFoundError\u001b[0m: [Errno 2] No such file or directory: '/content/drive/MyDrive/EmotionRecognitionDS/Frames/frame16.png'"
          ]
        }
      ]
    },
    {
      "cell_type": "markdown",
      "metadata": {
        "id": "gfBMNYDKYTED"
      },
      "source": [
        "**Text2Emotion**"
      ]
    },
    {
      "cell_type": "code",
      "metadata": {
        "colab": {
          "base_uri": "https://localhost:8080/"
        },
        "id": "N5B1Bg45YTw7",
        "outputId": "9bae941d-dcaf-4612-e68e-a6d5d55d359b"
      },
      "source": [
        "pip install text2emotion"
      ],
      "execution_count": null,
      "outputs": [
        {
          "output_type": "stream",
          "text": [
            "Requirement already satisfied: text2emotion in /usr/local/lib/python3.6/dist-packages (0.0.5)\n",
            "Requirement already satisfied: emoji>=0.6.0 in /usr/local/lib/python3.6/dist-packages (from text2emotion) (1.2.0)\n",
            "Requirement already satisfied: nltk in /usr/local/lib/python3.6/dist-packages (from text2emotion) (3.2.5)\n",
            "Requirement already satisfied: six in /usr/local/lib/python3.6/dist-packages (from nltk->text2emotion) (1.15.0)\n"
          ],
          "name": "stdout"
        }
      ]
    },
    {
      "cell_type": "code",
      "metadata": {
        "colab": {
          "base_uri": "https://localhost:8080/"
        },
        "id": "U-BANq69YhGL",
        "outputId": "5825258e-0727-4f26-a82d-c3be689d8bad"
      },
      "source": [
        "import text2emotion as te"
      ],
      "execution_count": null,
      "outputs": [
        {
          "output_type": "stream",
          "text": [
            "[nltk_data] Downloading package stopwords to /root/nltk_data...\n",
            "[nltk_data]   Unzipping corpora/stopwords.zip.\n",
            "[nltk_data] Downloading package punkt to /root/nltk_data...\n",
            "[nltk_data]   Unzipping tokenizers/punkt.zip.\n",
            "[nltk_data] Downloading package wordnet to /root/nltk_data...\n",
            "[nltk_data]   Unzipping corpora/wordnet.zip.\n"
          ],
          "name": "stdout"
        }
      ]
    },
    {
      "cell_type": "markdown",
      "metadata": {
        "id": "50ZOTzc8YmKC"
      },
      "source": [
        "Recognize Emotion From Text"
      ]
    },
    {
      "cell_type": "code",
      "metadata": {
        "colab": {
          "base_uri": "https://localhost:8080/"
        },
        "id": "yteCTDf5Ykzy",
        "outputId": "5c6cebf1-f46a-474d-c76c-6fb49fdb8951"
      },
      "source": [
        "text=open(\"/content/recognized.txt\",\"r\").read()\r\n",
        "te.get_emotion(text)"
      ],
      "execution_count": null,
      "outputs": [
        {
          "output_type": "execute_result",
          "data": {
            "text/plain": [
              "{'Angry': 0.0, 'Fear': 0.0, 'Happy': 1.0, 'Sad': 0.0, 'Surprise': 0.0}"
            ]
          },
          "metadata": {
            "tags": []
          },
          "execution_count": 59
        }
      ]
    }
  ]
}