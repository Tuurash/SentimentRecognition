{
  "nbformat": 4,
  "nbformat_minor": 0,
  "metadata": {
    "colab": {
      "name": "VoiceRecognition.ipynb",
      "provenance": [],
      "collapsed_sections": [],
      "include_colab_link": true
    },
    "kernelspec": {
      "name": "python3",
      "display_name": "Python 3"
    }
  },
  "cells": [
    {
      "cell_type": "markdown",
      "metadata": {
        "id": "view-in-github",
        "colab_type": "text"
      },
      "source": [
        "<a href=\"https://colab.research.google.com/github/Tuurash/SentimentRecognitionFromVoice/blob/main/VoiceRecognition.ipynb\" target=\"_parent\"><img src=\"https://colab.research.google.com/assets/colab-badge.svg\" alt=\"Open In Colab\"/></a>"
      ]
    },
    {
      "cell_type": "markdown",
      "metadata": {
        "id": "kIjbHN7nqn2I"
      },
      "source": [
        "installing MoviePy for working with video\r\n"
      ]
    },
    {
      "cell_type": "code",
      "metadata": {
        "colab": {
          "base_uri": "https://localhost:8080/"
        },
        "id": "G0I-OCXuppG8",
        "outputId": "4ea79c4a-34b1-4aa1-8011-c3ee24e7150c"
      },
      "source": [
        "from google.colab import drive\n",
        "drive.mount('/content/drive')"
      ],
      "execution_count": 1,
      "outputs": [
        {
          "output_type": "stream",
          "text": [
            "Mounted at /content/drive\n"
          ],
          "name": "stdout"
        }
      ]
    },
    {
      "cell_type": "code",
      "metadata": {
        "colab": {
          "base_uri": "https://localhost:8080/"
        },
        "id": "Cm6Q2lk6qBKw",
        "outputId": "6e2747f6-ba2c-437f-d02d-7adbc76ce011"
      },
      "source": [
        "pip install SpeechRecognition moviepy"
      ],
      "execution_count": 3,
      "outputs": [
        {
          "output_type": "stream",
          "text": [
            "Requirement already satisfied: SpeechRecognition in /usr/local/lib/python3.6/dist-packages (3.8.1)\n",
            "Requirement already satisfied: moviepy in /usr/local/lib/python3.6/dist-packages (0.2.3.5)\n",
            "Requirement already satisfied: tqdm<5.0,>=4.11.2 in /usr/local/lib/python3.6/dist-packages (from moviepy) (4.41.1)\n",
            "Requirement already satisfied: decorator<5.0,>=4.0.2 in /usr/local/lib/python3.6/dist-packages (from moviepy) (4.4.2)\n",
            "Requirement already satisfied: imageio<3.0,>=2.1.2 in /usr/local/lib/python3.6/dist-packages (from moviepy) (2.4.1)\n",
            "Requirement already satisfied: numpy in /usr/local/lib/python3.6/dist-packages (from moviepy) (1.19.5)\n",
            "Requirement already satisfied: pillow in /usr/local/lib/python3.6/dist-packages (from imageio<3.0,>=2.1.2->moviepy) (7.0.0)\n"
          ],
          "name": "stdout"
        }
      ]
    },
    {
      "cell_type": "markdown",
      "metadata": {
        "id": "4H8WXYlzlem6"
      },
      "source": [
        "**AssembleAi**"
      ]
    },
    {
      "cell_type": "code",
      "metadata": {
        "id": "DHTH7skulcZK",
        "outputId": "b4497e15-d182-4b8f-d8c4-9de7e8d85cce",
        "colab": {
          "base_uri": "https://localhost:8080/"
        }
      },
      "source": [
        "pip install assemblyai"
      ],
      "execution_count": 13,
      "outputs": [
        {
          "output_type": "stream",
          "text": [
            "Collecting assemblyai\n",
            "  Downloading https://files.pythonhosted.org/packages/f3/4e/7fa9c11a451b94ee4721253cbdddb5057e2169479f80ed21ca426b94f010/assemblyai-0.2.7-py2.py3-none-any.whl\n",
            "Requirement already satisfied: requests>=2.18.4 in /usr/local/lib/python3.6/dist-packages (from assemblyai) (2.23.0)\n",
            "Requirement already satisfied: click>=6.7 in /usr/local/lib/python3.6/dist-packages (from assemblyai) (7.1.2)\n",
            "Requirement already satisfied: urllib3!=1.25.0,!=1.25.1,<1.26,>=1.21.1 in /usr/local/lib/python3.6/dist-packages (from requests>=2.18.4->assemblyai) (1.24.3)\n",
            "Requirement already satisfied: chardet<4,>=3.0.2 in /usr/local/lib/python3.6/dist-packages (from requests>=2.18.4->assemblyai) (3.0.4)\n",
            "Requirement already satisfied: idna<3,>=2.5 in /usr/local/lib/python3.6/dist-packages (from requests>=2.18.4->assemblyai) (2.10)\n",
            "Requirement already satisfied: certifi>=2017.4.17 in /usr/local/lib/python3.6/dist-packages (from requests>=2.18.4->assemblyai) (2020.12.5)\n",
            "Installing collected packages: assemblyai\n",
            "Successfully installed assemblyai-0.2.7\n"
          ],
          "name": "stdout"
        }
      ]
    },
    {
      "cell_type": "markdown",
      "metadata": {
        "id": "igMIV2RlreAi"
      },
      "source": [
        "import libraries"
      ]
    },
    {
      "cell_type": "code",
      "metadata": {
        "id": "NYtOmbNdrga3"
      },
      "source": [
        "import speech_recognition as sr \r\n",
        "import moviepy.editor as mp\r\n"
      ],
      "execution_count": 15,
      "outputs": []
    },
    {
      "cell_type": "markdown",
      "metadata": {
        "id": "3JUmVEqRruBA"
      },
      "source": [
        "Audio Conversation speech_recognition"
      ]
    },
    {
      "cell_type": "code",
      "metadata": {
        "colab": {
          "base_uri": "https://localhost:8080/"
        },
        "id": "lhbEqJffzxQV",
        "outputId": "e2e12edc-2685-4e7a-ef34-20b7218f0111"
      },
      "source": [
        "clip = mp.VideoFileClip(r\"/content/drive/MyDrive/EmotionRecognitionDS/trump.mp4\") \r\n",
        "clip.audio.write_audiofile(r\"/content/drive/MyDrive/EmotionRecognitionDS/converted.wav\")"
      ],
      "execution_count": 19,
      "outputs": [
        {
          "output_type": "stream",
          "text": [
            "[MoviePy] Writing audio in /content/drive/MyDrive/EmotionRecognitionDS/converted.wav\n"
          ],
          "name": "stdout"
        },
        {
          "output_type": "stream",
          "text": [
            "100%|██████████| 439/439 [00:00<00:00, 1677.78it/s]"
          ],
          "name": "stderr"
        },
        {
          "output_type": "stream",
          "text": [
            "[MoviePy] Done.\n"
          ],
          "name": "stdout"
        },
        {
          "output_type": "stream",
          "text": [
            "\n"
          ],
          "name": "stderr"
        }
      ]
    },
    {
      "cell_type": "markdown",
      "metadata": {
        "id": "fWx32UUY1gcx"
      },
      "source": [
        "Speech Recognition under Multiple Instances"
      ]
    },
    {
      "cell_type": "code",
      "metadata": {
        "id": "GcWgDPCs1jpa"
      },
      "source": [
        "r = sr.Recognizer()\r\n",
        "audio = sr.AudioFile(\"/content/drive/MyDrive/EmotionRecognitionDS/converted.wav\")\r\n"
      ],
      "execution_count": 18,
      "outputs": []
    },
    {
      "cell_type": "code",
      "metadata": {
        "id": "FvuEON_52Av7"
      },
      "source": [
        "with audio as source:\r\n",
        "  r.adjust_for_ambient_noise(source)\r\n",
        "  audio_file = r.record(source)\r\n",
        "  \r\n",
        "#result_google = r.recognize_google(audio_file) # google Text to speech Speech\r\n",
        "#result_bing = r.recognize_bing(audio_file,key=\"62eef73fcba24a9ea57686449a8d7bda\") # Microsoft Bing Speech\r\n",
        "#result_hound = r.recognize_houndify(audio_file,client_id=\"T9TF5Tf98f3CPVDkEyCrcw==\",client_key=\"ZR7NnHIuO5wyEvVcsgkfJNy2ZRSZNr0sYRh8ChAAyGQgiYYlaa6O1PVHrON8Bd8nQNzbsK-Le-hP06eEcqxBCw==\") # SoundHound\r\n",
        "#result_IBM = r.recognize_ibm(audio_file,username=\"Turashmim\",password=\"Turash1234\",language=\"en-us\") # IBM\r\n",
        "\r\n",
        "result_wit = r.recognize_wit(audio_file,key=\"XEMMY7J4I4OJXPKTFSNX56HBP7XBI4LK\") # google Text to speech Speech\r\n"
      ],
      "execution_count": 58,
      "outputs": []
    },
    {
      "cell_type": "markdown",
      "metadata": {
        "id": "J6v2P2ez2fcv"
      },
      "source": [
        "Export Sentence"
      ]
    },
    {
      "cell_type": "code",
      "metadata": {
        "id": "5SzRE1vu2jzV",
        "colab": {
          "base_uri": "https://localhost:8080/"
        },
        "outputId": "63147fa7-0fdd-4479-c2f7-875c4abb0d5a"
      },
      "source": [
        "# exporting the result SR\r\n",
        "with open('recognized_SR.txt',mode ='w') as file: \r\n",
        "    \r\n",
        "#   file.write(result_google) # google Text to speech Transcript\r\n",
        "#   file.write(result_bing) # Microsoft Bing Speech Transcript\r\n",
        "#   file.write(result_hound) # SoundHound Transcript\r\n",
        "   file.write(result_wit) # Wit Transcript\r\n",
        "   print(\"done!\")"
      ],
      "execution_count": 60,
      "outputs": [
        {
          "output_type": "stream",
          "text": [
            "done!\n"
          ],
          "name": "stdout"
        }
      ]
    },
    {
      "cell_type": "markdown",
      "metadata": {
        "id": "A5VrIpI5ucKS"
      },
      "source": [
        "Installing Text2Emotion\r\n"
      ]
    },
    {
      "cell_type": "code",
      "metadata": {
        "colab": {
          "base_uri": "https://localhost:8080/"
        },
        "id": "gLu4m7Idui6t",
        "outputId": "d7af18a3-cbe5-40de-a474-a3866453c297"
      },
      "source": [
        "pip install text2emotion"
      ],
      "execution_count": null,
      "outputs": [
        {
          "output_type": "stream",
          "text": [
            "Collecting text2emotion\n",
            "\u001b[?25l  Downloading https://files.pythonhosted.org/packages/fe/31/b190e37c1396ca68ab1b5c8ea1a23f2f7848df532ad69133e94853120aed/text2emotion-0.0.5-py3-none-any.whl (57kB)\n",
            "\u001b[K     |████████████████████████████████| 61kB 2.9MB/s \n",
            "\u001b[?25hCollecting emoji>=0.6.0\n",
            "\u001b[?25l  Downloading https://files.pythonhosted.org/packages/ff/1c/1f1457fe52d0b30cbeebfd578483cedb3e3619108d2d5a21380dfecf8ffd/emoji-0.6.0.tar.gz (51kB)\n",
            "\u001b[K     |████████████████████████████████| 51kB 5.7MB/s \n",
            "\u001b[?25hRequirement already satisfied: nltk in /usr/local/lib/python3.6/dist-packages (from text2emotion) (3.2.5)\n",
            "Requirement already satisfied: six in /usr/local/lib/python3.6/dist-packages (from nltk->text2emotion) (1.15.0)\n",
            "Building wheels for collected packages: emoji\n",
            "  Building wheel for emoji (setup.py) ... \u001b[?25l\u001b[?25hdone\n",
            "  Created wheel for emoji: filename=emoji-0.6.0-cp36-none-any.whl size=49717 sha256=541e4cb56d36ae72cb37effe154e0de0a74db856b546f576459b43f992fcb6c0\n",
            "  Stored in directory: /root/.cache/pip/wheels/46/2c/8b/9dcf5216ca68e14e0320e283692dce8ae321cdc01e73e17796\n",
            "Successfully built emoji\n",
            "Installing collected packages: emoji, text2emotion\n",
            "Successfully installed emoji-0.6.0 text2emotion-0.0.5\n"
          ],
          "name": "stdout"
        }
      ]
    },
    {
      "cell_type": "markdown",
      "metadata": {
        "id": "Te7tAuJsupVK"
      },
      "source": [
        "Getting Text File"
      ]
    },
    {
      "cell_type": "code",
      "metadata": {
        "colab": {
          "base_uri": "https://localhost:8080/"
        },
        "id": "TJ7KtZ1xvQAY",
        "outputId": "05ef17d4-2e7d-497c-f306-75644e9e6945"
      },
      "source": [
        "import text2emotion as te"
      ],
      "execution_count": null,
      "outputs": [
        {
          "output_type": "stream",
          "text": [
            "[nltk_data] Downloading package stopwords to /root/nltk_data...\n",
            "[nltk_data]   Unzipping corpora/stopwords.zip.\n",
            "[nltk_data] Downloading package punkt to /root/nltk_data...\n",
            "[nltk_data]   Unzipping tokenizers/punkt.zip.\n",
            "[nltk_data] Downloading package wordnet to /root/nltk_data...\n",
            "[nltk_data]   Unzipping corpora/wordnet.zip.\n"
          ],
          "name": "stdout"
        }
      ]
    },
    {
      "cell_type": "code",
      "metadata": {
        "id": "zHb3JRAouwBo"
      },
      "source": [
        "text=open(\"/content/recognized.txt\",\"r\").read()\r\n"
      ],
      "execution_count": null,
      "outputs": []
    },
    {
      "cell_type": "markdown",
      "metadata": {
        "id": "x_48gu1vxM1y"
      },
      "source": [
        "*Analysis*"
      ]
    },
    {
      "cell_type": "code",
      "metadata": {
        "colab": {
          "base_uri": "https://localhost:8080/"
        },
        "id": "hbGauhnpvjHF",
        "outputId": "2ae56e47-0c12-4518-f3bc-aff79583cb8a"
      },
      "source": [
        "te.get_emotion(text)"
      ],
      "execution_count": null,
      "outputs": [
        {
          "output_type": "execute_result",
          "data": {
            "text/plain": [
              "{'Angry': 0.0, 'Fear': 0.33, 'Happy': 0.0, 'Sad': 0.0, 'Surprise': 0.67}"
            ]
          },
          "metadata": {
            "tags": []
          },
          "execution_count": 27
        }
      ]
    }
  ]
}